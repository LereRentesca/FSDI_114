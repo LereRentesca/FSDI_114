{
 "cells": [
  {
   "cell_type": "code",
   "execution_count": 1,
   "metadata": {},
   "outputs": [
    {
     "name": "stdout",
     "output_type": "stream",
     "text": [
      "H\n",
      "e\n",
      "l\n",
      "l\n",
      "o\n",
      ",\n",
      " \n",
      "w\n",
      "o\n",
      "r\n",
      "l\n",
      "d\n"
     ]
    }
   ],
   "source": [
    "for letter in \"Hello, world\":\n",
    "    print(letter)"
   ]
  },
  {
   "attachments": {},
   "cell_type": "markdown",
   "metadata": {},
   "source": [
    "# Problem 1\n",
    "\n",
    "### Anagram check\n",
    "\n",
    "Create a function that takes two strings as parameters and returns True if they ara anagrams of each other, False otherwise.\n",
    "```\n",
    "Examples:\n",
    "1. heart and earth\n",
    "2. scar and cars\n",
    "3. star and rats\n",
    "etc\n",
    "```\n",
    "\n",
    "\n",
    "### Criteria\n",
    "Two strings are anagrams of each other if and only if all of the criteria below are met:\n",
    "> 1. They must use all the same characters\n",
    "> 2. They must be of exactly the same length (in characters)\n",
    "\n"
   ]
  },
  {
   "cell_type": "code",
   "execution_count": 114,
   "metadata": {},
   "outputs": [
    {
     "data": {
      "text/plain": [
       "True"
      ]
     },
     "execution_count": 114,
     "metadata": {},
     "output_type": "execute_result"
    }
   ],
   "source": [
    "def validate_anagrams(str1, str2):\n",
    "    # str1=str1.replace(\" \",\"\").lower()\n",
    "    # str2=str2.replace(\" \",\"\").lower()\n",
    "    i=0\n",
    "    j=0\n",
    "    if len(str1) == len(str2):\n",
    "        for a in str1:\n",
    "            for b in str2:\n",
    "                if a==b:\n",
    "                    i=i+1\n",
    "                    break\n",
    "        for a in str2:\n",
    "            for b in str1:\n",
    "                if a==b:\n",
    "                    j=j+1\n",
    "                    break\n",
    "        if i==len(str1) and i==j:\n",
    "            return True\n",
    "        else:\n",
    "            return False\n",
    "    else:\n",
    "        return False\n",
    "\n",
    "validate_anagrams(\"cars\",\"scar\")\n"
   ]
  },
  {
   "attachments": {},
   "cell_type": "markdown",
   "metadata": {},
   "source": [
    "# Generate the pseudocode that solves the problem above\n",
    "```\n",
    "Create a function that receives two string parameters and named it \"validate_anagram\"\n",
    "Initialize two variables (i,j) to zero.\n",
    "IF the length of the first string is equal to the length of the second string THEN\n",
    "    FOR each letter in the first string\n",
    "        FOR each letter in the second string\n",
    "            IF letters are the same THEN\n",
    "                Do an increment of one to i\n",
    "                BREAK the second loop\n",
    "\n",
    "    FOR each letter in the second string\n",
    "        FOR each letter in the first string\n",
    "            IF letters are the same THEN\n",
    "                Do an increment of one to j\n",
    "                BREAK the second loop\n",
    "    IF variable i is equal to the lenght of the first string and IF variables i and j are the same THEN\n",
    "        RETURN True\n",
    "    ELSE\n",
    "        RETURN False\n",
    "ELSE\n",
    "    RETURN False   \n",
    "```"
   ]
  },
  {
   "attachments": {},
   "cell_type": "markdown",
   "metadata": {},
   "source": []
  }
 ],
 "metadata": {
  "kernelspec": {
   "display_name": "Python 3",
   "language": "python",
   "name": "python3"
  },
  "language_info": {
   "codemirror_mode": {
    "name": "ipython",
    "version": 3
   },
   "file_extension": ".py",
   "mimetype": "text/x-python",
   "name": "python",
   "nbconvert_exporter": "python",
   "pygments_lexer": "ipython3",
   "version": "3.9.9"
  },
  "orig_nbformat": 4
 },
 "nbformat": 4,
 "nbformat_minor": 2
}
