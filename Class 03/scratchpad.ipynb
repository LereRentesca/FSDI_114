{
 "cells": [
  {
   "cell_type": "code",
   "execution_count": 5,
   "metadata": {},
   "outputs": [
    {
     "name": "stdout",
     "output_type": "stream",
     "text": [
      "I've seen this character before, so I am not adding it: a\n",
      "['R', 'a', 'f', 'e', 'l']\n"
     ]
    }
   ],
   "source": [
    "mystring = \"Rafael\"\n",
    "mystring2 = \"tdfsdx\"\n",
    "mylist = [1,\"a\",2,\"b\",3,\"c\"]\n",
    "mytuple = (\"Rafael\",\"GPL\",\"had\",\"a\",\"farm\",\"eei eei oh\",\"uWu\")\n",
    "\n",
    "seen = []\n",
    "\n",
    "for position in range(len(mystring)):\n",
    "    if mystring[position] not in seen:\n",
    "        seen.append(mystring[position])\n",
    "    else:\n",
    "        print(\"I've seen this character before, so I am not adding it: %s\" % mystring[position])\n",
    "print(seen)"
   ]
  },
  {
   "cell_type": "code",
   "execution_count": 8,
   "metadata": {},
   "outputs": [
    {
     "name": "stdout",
     "output_type": "stream",
     "text": [
      "{'R': 1, 'a': 2, 'f': 1, 'e': 1, 'l': 1}\n"
     ]
    }
   ],
   "source": [
    "mydictionary = {}\n",
    "\n",
    "for position in range(len(mystring)):\n",
    "    if mystring[position] not in mydictionary.keys():\n",
    "        mydictionary[mystring[position]] = 1\n",
    "    else:\n",
    "        mydictionary[mystring[position]] += 1\n",
    "print(mydictionary)\n",
    "\n",
    "# help(mydictionary)"
   ]
  },
  {
   "cell_type": "code",
   "execution_count": null,
   "metadata": {},
   "outputs": [],
   "source": []
  }
 ],
 "metadata": {
  "kernelspec": {
   "display_name": "Python 3",
   "language": "python",
   "name": "python3"
  },
  "language_info": {
   "codemirror_mode": {
    "name": "ipython",
    "version": 3
   },
   "file_extension": ".py",
   "mimetype": "text/x-python",
   "name": "python",
   "nbconvert_exporter": "python",
   "pygments_lexer": "ipython3",
   "version": "3.9.9"
  },
  "orig_nbformat": 4
 },
 "nbformat": 4,
 "nbformat_minor": 2
}
