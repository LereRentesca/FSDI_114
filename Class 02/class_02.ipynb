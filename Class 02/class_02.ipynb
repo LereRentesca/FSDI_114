{
 "cells": [
  {
   "cell_type": "code",
   "execution_count": 1,
   "metadata": {},
   "outputs": [],
   "source": [
    "class Stack:\n",
    "    def __init__(self):\n",
    "        self.items = []\n",
    "    \n",
    "    def push(self,value):\n",
    "        self.items.append(value)\n",
    "\n",
    "    def pop(self):\n",
    "        return self.items.pop()\n",
    "    \n",
    "    def size(self):\n",
    "        return len(self.items)\n",
    "    \n",
    "    def peek(self):\n",
    "        return self.items[len(self.items)-1]\n",
    "    \n",
    "    def is_empty(self):\n",
    "        return self.items == []"
   ]
  },
  {
   "attachments": {},
   "cell_type": "markdown",
   "metadata": {},
   "source": [
    "# Problem 2\n",
    "### Use the stack class above to invert a string\n",
    "\n",
    "```\n",
    "example:\n",
    "given \"Rafael\" your function should return leafaR\n",
    "given \"stars\" your function should return \"srats\"\n",
    "given \"cool\" your function should return \"looc\"\n",
    "```\n",
    "\n",
    "Your function must receive a string as a parameter and return a string(not a list)\n",
    "\n",
    "Your function must use the stack class above\n",
    "\n",
    "You cannot google anything for this challenge"
   ]
  },
  {
   "cell_type": "code",
   "execution_count": 25,
   "metadata": {},
   "outputs": [
    {
     "data": {
      "text/plain": [
       "'leafaR'"
      ]
     },
     "execution_count": 25,
     "metadata": {},
     "output_type": "execute_result"
    }
   ],
   "source": [
    "def invert_string(str1):\n",
    "    obj  = Stack()\n",
    "    #inverted_string = []\n",
    "    concat=\"\"\n",
    "\n",
    "    for letter in str1:\n",
    "        obj.push(letter)\n",
    "\n",
    "    # for i in range(0,obj.size()):\n",
    "    #     inverted_string.append(obj.pop())\n",
    "    #     concat = concat+inverted_string[i]\n",
    "\n",
    "    while not obj.is_empty():\n",
    "        concat += obj.pop()\n",
    "    return concat\n",
    "    \n",
    "invert_string(\"Rafael\")"
   ]
  },
  {
   "cell_type": "code",
   "execution_count": null,
   "metadata": {},
   "outputs": [],
   "source": []
  }
 ],
 "metadata": {
  "kernelspec": {
   "display_name": "Python 3",
   "language": "python",
   "name": "python3"
  },
  "language_info": {
   "codemirror_mode": {
    "name": "ipython",
    "version": 3
   },
   "file_extension": ".py",
   "mimetype": "text/x-python",
   "name": "python",
   "nbconvert_exporter": "python",
   "pygments_lexer": "ipython3",
   "version": "3.9.9"
  },
  "orig_nbformat": 4
 },
 "nbformat": 4,
 "nbformat_minor": 2
}
